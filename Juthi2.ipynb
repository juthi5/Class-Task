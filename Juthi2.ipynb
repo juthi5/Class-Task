{
  "nbformat": 4,
  "nbformat_minor": 0,
  "metadata": {
    "colab": {
      "provenance": []
    },
    "kernelspec": {
      "name": "python3",
      "display_name": "Python 3"
    },
    "language_info": {
      "name": "python"
    }
  },
  "cells": [
    {
      "cell_type": "markdown",
      "source": [
        "Lab Performance"
      ],
      "metadata": {
        "id": "GnGQgiH6DzTO"
      }
    },
    {
      "cell_type": "markdown",
      "source": [
        "1."
      ],
      "metadata": {
        "id": "HxYutq2BDyhY"
      }
    },
    {
      "cell_type": "code",
      "execution_count": null,
      "metadata": {
        "colab": {
          "base_uri": "https://localhost:8080/"
        },
        "id": "voropEqU_z-Y",
        "outputId": "370b7a8f-ceaa-48f9-f4ec-1531363d1bbe"
      },
      "outputs": [
        {
          "output_type": "stream",
          "name": "stdout",
          "text": [
            "Invalid Amount Exception\n",
            "Done\n"
          ]
        }
      ],
      "source": [
        "from abc import ABC, abstractmethod\n",
        "\n",
        "class BankAccount(ABC):\n",
        "    @abstractmethod\n",
        "    def deposit(self, amount):\n",
        "        pass\n",
        "\n",
        "    @abstractmethod\n",
        "    def withdraw(self, amount):\n",
        "        pass\n",
        "\n",
        "class InvalidAmountException(Exception):\n",
        "    pass\n",
        "\n",
        "class AccountHolder(BankAccount):\n",
        "    def __init__(self, name, balance, acc_num):\n",
        "        self._balance = balance\n",
        "        self.name = name\n",
        "        self.__acc_num = acc_num\n",
        "\n",
        "    def deposit(self, amount):\n",
        "        if amount < 0:\n",
        "            raise InvalidAmountException\n",
        "        self._balance += amount\n",
        "        print(\"Deposit successful! Now balance is:\", self._balance)\n",
        "\n",
        "    def withdraw(self, amount):\n",
        "        if amount < 0:\n",
        "            raise InvalidAmountException\n",
        "        if amount > self._balance:\n",
        "            raise ValueError\n",
        "        self._balance -= amount\n",
        "        print(\"Withdraw successful! Now balance is:\", self._balance)\n",
        "\n",
        "    def setBalance(self, balance):\n",
        "        self._balance = balance\n",
        "\n",
        "    def setAccountNum(self, acc_num):\n",
        "        self.__acc_num =  acc_num\n",
        "\n",
        "    def getBalance(self):\n",
        "        return self._balance\n",
        "\n",
        "    def getAccountNum(self):\n",
        "        return self.__acc_num\n",
        "\n",
        "a = AccountHolder(\"Juthi\", 200000.0, 101)\n",
        "try:\n",
        "    a.deposit(-100)\n",
        "    a.withdraw(10300)\n",
        "except ValueError:\n",
        "    print(\"Value Error Occured!\")\n",
        "except InvalidAmountException:\n",
        "    print(\"Invalid Amount Exception\")\n",
        "except:\n",
        "    print(\"Other errors!\")\n",
        "finally:\n",
        "    print(\"Done\")\n",
        "\n",
        "\n"
      ]
    },
    {
      "cell_type": "markdown",
      "source": [
        "2."
      ],
      "metadata": {
        "id": "QBY87fXHEBlO"
      }
    },
    {
      "cell_type": "code",
      "source": [
        "from abc import ABC, abstractmethod\n",
        "\n",
        "class BankAccount(ABC):\n",
        "    @abstractmethod\n",
        "    def deposit(self, amount):\n",
        "        pass\n",
        "\n",
        "    @abstractmethod\n",
        "    def withdraw(self, amount):\n",
        "        pass\n",
        "\n",
        "class InvalidAmountException(Exception):\n",
        "    pass\n",
        "\n",
        "class AccountHolder(BankAccount):\n",
        "    def __init__(self, name, balance, acc_num):\n",
        "        self._balance = balance\n",
        "        self.name = name\n",
        "        self.__acc_num = acc_num\n",
        "\n",
        "    def deposit(self, amount):\n",
        "        if amount < 0:\n",
        "            raise InvalidAmountException\n",
        "        self._balance += amount\n",
        "        print(f\"Deposit successful for {self.name}! Now balance is: {self._balance}\")\n",
        "\n",
        "    def withdraw(self, amount):\n",
        "        if amount < 0:\n",
        "            raise InvalidAmountException\n",
        "        if amount > self._balance:\n",
        "            raise ValueError\n",
        "        self._balance -= amount\n",
        "        print(f\"Withdraw successful for {self.name}! Now balance is: {self._balance}\")\n",
        "\n",
        "    def setBalance(self, balance):\n",
        "        self._balance = balance\n",
        "\n",
        "    def setAccountNum(self, acc_num):\n",
        "        self.__acc_num = acc_num\n",
        "\n",
        "    def getBalance(self):\n",
        "        return self._balance\n",
        "\n",
        "    def getAccountNum(self):\n",
        "        return self.__acc_num\n",
        "\n",
        "account_details = [\n",
        "    (\"Juthi\", 200000.0, 101),\n",
        "    (\"Sithi\", 50000.0, 102),\n",
        "    (\"Achol\", 80000.0, 103),\n",
        "    (\"Sohi\", 150000.0, 104),\n",
        "    (\"Shanta\", 120000.0, 105)\n",
        "]\n",
        "\n",
        "accounts = []\n",
        "for name, balance, acc_num in account_details:\n",
        "    account = AccountHolder(name, balance, acc_num)\n",
        "    accounts.append(account)\n",
        "\n",
        "for account in accounts:\n",
        "    try:\n",
        "        account.deposit(5000)\n",
        "        account.withdraw(2000)\n",
        "        account.deposit(-100)\n",
        "    except ValueError:\n",
        "        print(\"Value Error Occurred!\")\n",
        "    except InvalidAmountException:\n",
        "        print(\"Invalid Amount Exception\")\n",
        "    except Exception:\n",
        "        print(\"Other errors!\")\n",
        "    finally:\n",
        "        print(\"Done\", account.name)\n"
      ],
      "metadata": {
        "colab": {
          "base_uri": "https://localhost:8080/"
        },
        "id": "K8CAM3dRAQ15",
        "outputId": "b56bb2e7-62fe-4012-cdbb-cdc5978840ad"
      },
      "execution_count": null,
      "outputs": [
        {
          "output_type": "stream",
          "name": "stdout",
          "text": [
            "Deposit successful for Juthi! Now balance is: 205000.0\n",
            "Withdraw successful for Juthi! Now balance is: 203000.0\n",
            "Invalid Amount Exception\n",
            "Done Juthi\n",
            "Deposit successful for Sithi! Now balance is: 55000.0\n",
            "Withdraw successful for Sithi! Now balance is: 53000.0\n",
            "Invalid Amount Exception\n",
            "Done Sithi\n",
            "Deposit successful for Achol! Now balance is: 85000.0\n",
            "Withdraw successful for Achol! Now balance is: 83000.0\n",
            "Invalid Amount Exception\n",
            "Done Achol\n",
            "Deposit successful for Sohi! Now balance is: 155000.0\n",
            "Withdraw successful for Sohi! Now balance is: 153000.0\n",
            "Invalid Amount Exception\n",
            "Done Sohi\n",
            "Deposit successful for Shanta! Now balance is: 125000.0\n",
            "Withdraw successful for Shanta! Now balance is: 123000.0\n",
            "Invalid Amount Exception\n",
            "Done Shanta\n"
          ]
        }
      ]
    },
    {
      "cell_type": "markdown",
      "source": [
        "Class Task\n",
        "\n",
        "Function\n",
        "\n",
        "1."
      ],
      "metadata": {
        "id": "3WQVijY65kVv"
      }
    },
    {
      "cell_type": "code",
      "source": [
        "\n",
        "def calculate_expression(a, b):\n",
        "    return a**2 + b**2 + 2*a*b\n",
        "\n",
        "a = int(input(\"Enter the value of a: \"))\n",
        "b = int(input(\"Enter the value of b: \"))\n",
        "result = calculate_expression(a, b)\n",
        "print(f\"The result of (a+b)^2 is: {result}\")"
      ],
      "metadata": {
        "colab": {
          "base_uri": "https://localhost:8080/"
        },
        "id": "v7Ou3cRu5qCW",
        "outputId": "8e603bc8-de33-4817-d6f7-152811f984dc"
      },
      "execution_count": 1,
      "outputs": [
        {
          "output_type": "stream",
          "name": "stdout",
          "text": [
            "Enter the value of a: 45\n",
            "Enter the value of b: 45\n",
            "The result of (a+b)^2 is: 8100\n"
          ]
        }
      ]
    },
    {
      "cell_type": "markdown",
      "source": [
        "2."
      ],
      "metadata": {
        "id": "rfNCXPIb5-B_"
      }
    },
    {
      "cell_type": "code",
      "source": [
        "lambda_expression = lambda a, b: a**2 + b**2 + 2*a*b\n",
        "\n",
        "a = int(input(\"Enter the value of a: \"))\n",
        "b = int(input(\"Enter the value of b: \"))\n",
        "result = lambda_expression(a, b)\n",
        "print(f\"The result of (a+b)^2 using lambda is: {result}\")"
      ],
      "metadata": {
        "colab": {
          "base_uri": "https://localhost:8080/"
        },
        "id": "ATeVv_Tx5_1O",
        "outputId": "371f4201-55a7-44f8-9018-9d25a8330941"
      },
      "execution_count": 2,
      "outputs": [
        {
          "output_type": "stream",
          "name": "stdout",
          "text": [
            "Enter the value of a: 34\n",
            "Enter the value of b: 34\n",
            "The result of (a+b)^2 using lambda is: 4624\n"
          ]
        }
      ]
    },
    {
      "cell_type": "markdown",
      "source": [
        "3.\n"
      ],
      "metadata": {
        "id": "OrdT1n9d6JGB"
      }
    },
    {
      "cell_type": "code",
      "source": [
        "def factorial(n):\n",
        "    if n == 0 or n == 1:\n",
        "        return 1\n",
        "    else:\n",
        "        return n * factorial(n - 1)\n",
        "\n",
        "n = int(input(\"Enter a number to find its factorial: \"))\n",
        "result = factorial(n)\n",
        "print(f\"The factorial of {n} is: {result}\")"
      ],
      "metadata": {
        "colab": {
          "base_uri": "https://localhost:8080/"
        },
        "id": "9GwML06d6K_J",
        "outputId": "f9f3174a-e4ed-4674-9a4f-2950a18ebe74"
      },
      "execution_count": 8,
      "outputs": [
        {
          "output_type": "stream",
          "name": "stdout",
          "text": [
            "Enter a number to find its factorial: 1\n",
            "The factorial of 1 is: 1\n"
          ]
        }
      ]
    },
    {
      "cell_type": "markdown",
      "source": [
        "4."
      ],
      "metadata": {
        "id": "r6OvIqMw6To3"
      }
    },
    {
      "cell_type": "code",
      "source": [
        "def is_prime(num):\n",
        "    if num <= 1:\n",
        "        return False\n",
        "    for i in range(2, int(num**0.5) + 1):\n",
        "        if num % i == 0:\n",
        "            return False\n",
        "    return True\n",
        "\n",
        "num = int(input(\"Enter a number to check if it is prime: \"))\n",
        "if is_prime(num):\n",
        "    print(f\"{num} is a prime number.\")\n",
        "else:\n",
        "    print(f\"{num} is not a prime number.\")"
      ],
      "metadata": {
        "colab": {
          "base_uri": "https://localhost:8080/"
        },
        "id": "2vBVmHb76U43",
        "outputId": "b4715747-eabf-428b-ed1b-50f8dbfcb0d7"
      },
      "execution_count": 7,
      "outputs": [
        {
          "output_type": "stream",
          "name": "stdout",
          "text": [
            "Enter a number to check if it is prime: 6\n",
            "6 is not a prime number.\n"
          ]
        }
      ]
    },
    {
      "cell_type": "markdown",
      "source": [
        "List\n",
        "1."
      ],
      "metadata": {
        "id": "lSg4_jpv6gBH"
      }
    },
    {
      "cell_type": "code",
      "source": [
        "a = [1, 3, 5, 7, 9]\n",
        "\n",
        "print(\"a[-2]:\", a[-2])\n",
        "print(\"a[2]:\", a[2])\n",
        "print(\"Length of a:\", len(a))\n",
        "print(\"Type of a:\", type(a))\n",
        "a[-3] = 50\n",
        "\n",
        "print(\"After changing a[3]:\", a)\n",
        "print(\"a[2:4]:\", a[2:4])\n",
        "a.append(100)\n",
        "print(\"After appending 100:\", a)\n",
        "\n",
        "a.insert(2, 200)\n",
        "print(\"After inserting 200 at index 2:\", a)\n",
        "a.pop()\n",
        "print(\"After removing last element:\", a)\n",
        "\n",
        "a.pop(1)\n",
        "print(\"After removing element at index 1:\", a)\n",
        "new_list = [2, 4, 6]\n",
        "a.extend(new_list)\n",
        "print(\"After joining new list:\", a)\n",
        "a.extend(new_list)\n",
        "print(\"After joining new list: \", a)\n",
        "\n",
        "b = a.copy()\n",
        "print(\"Copied list b:\", b)\n",
        "a.extend(new_list)\n",
        "print(\"After joining new list: \", a)\n",
        "\n",
        "b = a.copy()\n",
        "print(\"Copied list b:\", b)\n",
        "b.sort()\n",
        "print(\"Sorted list b:\", b)\n",
        "print(\"Printing elements until 5:\")\n",
        "for element in a:\n",
        "    if element == 5:\n",
        "        print(element)\n",
        "        break\n",
        "    print(element)\n",
        "    largest = max(a)\n",
        "print(\"Largest number in a:\", largest)\n",
        ""
      ],
      "metadata": {
        "colab": {
          "base_uri": "https://localhost:8080/"
        },
        "id": "Z8JZwJDI6knP",
        "outputId": "a0581ec3-cec0-49a7-8197-4bff5155ce99"
      },
      "execution_count": 6,
      "outputs": [
        {
          "output_type": "stream",
          "name": "stdout",
          "text": [
            "a[-2]: 7\n",
            "a[2]: 5\n",
            "Length of a: 5\n",
            "Type of a: <class 'list'>\n",
            "After changing a[3]: [1, 3, 50, 7, 9]\n",
            "a[2:4]: [50, 7]\n",
            "After appending 100: [1, 3, 50, 7, 9, 100]\n",
            "After inserting 200 at index 2: [1, 3, 200, 50, 7, 9, 100]\n",
            "After removing last element: [1, 3, 200, 50, 7, 9]\n",
            "After removing element at index 1: [1, 200, 50, 7, 9]\n",
            "After joining new list: [1, 200, 50, 7, 9, 2, 4, 6]\n",
            "After joining new list:  [1, 200, 50, 7, 9, 2, 4, 6, 2, 4, 6]\n",
            "Copied list b: [1, 200, 50, 7, 9, 2, 4, 6, 2, 4, 6]\n",
            "After joining new list:  [1, 200, 50, 7, 9, 2, 4, 6, 2, 4, 6, 2, 4, 6]\n",
            "Copied list b: [1, 200, 50, 7, 9, 2, 4, 6, 2, 4, 6, 2, 4, 6]\n",
            "Sorted list b: [1, 2, 2, 2, 4, 4, 4, 6, 6, 6, 7, 9, 50, 200]\n",
            "Printing elements until 5:\n",
            "1\n",
            "200\n",
            "50\n",
            "7\n",
            "9\n",
            "2\n",
            "4\n",
            "6\n",
            "2\n",
            "4\n",
            "6\n",
            "2\n",
            "4\n",
            "6\n",
            "Largest number in a: 200\n"
          ]
        }
      ]
    },
    {
      "cell_type": "markdown",
      "source": [
        "Tupple\n",
        "\n",
        "1."
      ],
      "metadata": {
        "id": "at_980ZE8MSv"
      }
    },
    {
      "cell_type": "code",
      "source": [
        "a = (1, 3, 5, 7, 4)\n",
        "\n",
        "sum_of_odds = sum(x for x in a if x % 2 != 0)\n",
        "print(\"Sum of all odd numbers:\", sum_of_odds)\n",
        "for i, value in enumerate(a):\n",
        "    print(f\"Element {value} is at index {i}\")\n",
        "odd_count = sum(1 for x in a if x % 2 != 0)\n",
        "even_count = sum(1 for x in a if x % 2 == 0)\n",
        "\n",
        "print(\"Total odd numbers:\", odd_count)\n",
        "print(\"Total even numbers:\", even_count)\n",
        "a = a + (2, 4, 6)\n",
        "print(\"Extended tuple:\", a)\n",
        "a_list = list(a)\n",
        "a_list.insert(2, 400)\n",
        "a = tuple(a_list)\n",
        "\n",
        "print(\"Tuple after adding 400 at index 2:\", a)\n",
        "a_list = list(a)\n",
        "a_list.pop()\n",
        "a = tuple(a_list)\n",
        "print(\"Tuple after removing the last element:\", a)\n",
        "sliced = a[-4::-1]\n",
        "\n",
        "print(\"Slicing [-4::-1]:\", sliced)\n",
        "print(\"Printing tuple and skipping 5:\")\n",
        "\n",
        "for value in a:\n",
        "    if value == 5:\n",
        "        continue\n",
        "    print(value)"
      ],
      "metadata": {
        "colab": {
          "base_uri": "https://localhost:8080/"
        },
        "id": "qNRF2XTF8P4u",
        "outputId": "2b5ea80b-369c-4b00-cff0-d44284951a73"
      },
      "execution_count": 11,
      "outputs": [
        {
          "output_type": "stream",
          "name": "stdout",
          "text": [
            "Sum of all odd numbers: 16\n",
            "Element 1 is at index 0\n",
            "Element 3 is at index 1\n",
            "Element 5 is at index 2\n",
            "Element 7 is at index 3\n",
            "Element 4 is at index 4\n",
            "Total odd numbers: 4\n",
            "Total even numbers: 1\n",
            "Extended tuple: (1, 3, 5, 7, 4, 2, 4, 6)\n",
            "Tuple after adding 400 at index 2: (1, 3, 400, 5, 7, 4, 2, 4, 6)\n",
            "Tuple after removing the last element: (1, 3, 400, 5, 7, 4, 2, 4)\n",
            "Slicing [-4::-1]: (7, 5, 400, 3, 1)\n",
            "Printing tuple and skipping 5:\n",
            "1\n",
            "3\n",
            "400\n",
            "7\n",
            "4\n",
            "2\n",
            "4\n"
          ]
        }
      ]
    },
    {
      "cell_type": "markdown",
      "source": [
        "Set\n",
        "\n",
        "1."
      ],
      "metadata": {
        "id": "FfiLSSr79BbF"
      }
    },
    {
      "cell_type": "code",
      "source": [
        "a = {1, 3, 5, 8, 3, 7}\n",
        "b = {0, False, 1, 5}\n",
        "\n",
        "print(\"Set a:\", a)\n",
        "print(\"Set b:\", b)\n",
        "print(\"Length of a:\", len(a))\n",
        "print(\"Type of a:\", type(a))\n",
        "\n",
        "print(\"Length of b:\", len(b))\n",
        "print(\"Type of b:\", type(b))\n",
        "a.add(10)\n",
        "print(\"Set a after adding 10:\", a)\n",
        "a.discard(8)\n",
        "print(\"Set a after removing 8:\", a)\n",
        "union = a.union(b)\n",
        "print(\"Union of a and b:\", union)\n",
        "\n",
        "intersection = a.intersection(b)\n",
        "print(\"Intersection of a and b:\", intersection)\n",
        "\n",
        "difference = a.difference(b)\n",
        "print(\"Difference of a and b (a - b):\", difference)\n",
        "\n",
        "symmetric_difference = a.symmetric_difference(b)\n",
        "print(\"Symmetric difference of a and b:\", symmetric_difference)\n",
        "\n",
        "subset = a.issubset(b)\n",
        "print(\"Is a a subset of b?:\", subset)\n",
        "new_list = [2, 3, 4]\n",
        "a.update(new_list)\n",
        "print(\"Set a after adding new list:\", a)"
      ],
      "metadata": {
        "colab": {
          "base_uri": "https://localhost:8080/"
        },
        "id": "2eyhaTuQ9EwP",
        "outputId": "e121273c-fa82-4c8a-b848-995b6d63f78f"
      },
      "execution_count": 13,
      "outputs": [
        {
          "output_type": "stream",
          "name": "stdout",
          "text": [
            "Set a: {1, 3, 5, 7, 8}\n",
            "Set b: {0, 1, 5}\n",
            "Length of a: 5\n",
            "Type of a: <class 'set'>\n",
            "Length of b: 3\n",
            "Type of b: <class 'set'>\n",
            "Set a after adding 10: {1, 3, 5, 7, 8, 10}\n",
            "Set a after removing 8: {1, 3, 5, 7, 10}\n",
            "Union of a and b: {0, 1, 3, 5, 7, 10}\n",
            "Intersection of a and b: {1, 5}\n",
            "Difference of a and b (a - b): {10, 3, 7}\n",
            "Symmetric difference of a and b: {0, 3, 7, 10}\n",
            "Is a a subset of b?: False\n",
            "Set a after adding new list: {1, 2, 3, 4, 5, 7, 10}\n"
          ]
        }
      ]
    },
    {
      "cell_type": "markdown",
      "source": [
        "Dictionary\n",
        "\n",
        "1."
      ],
      "metadata": {
        "id": "Ylvbe0bDCYPQ"
      }
    },
    {
      "cell_type": "code",
      "source": [
        "employee = {\n",
        "    \"name\": \"A\",\n",
        "    \"age\": 40,\n",
        "    \"type\": {\"developer\": [\"iOS\", \"android\"]},\n",
        "    \"permanent\": True,\n",
        "    \"salary\": 30000,\n",
        "    100: (1, 2, 3),\n",
        "    4.5: {5, 6, \"Tone\", 7, 1}\n",
        "}\n",
        "\n",
        "print(\"Length of employee: \", len(employee))\n",
        "print(\"Type of employee: \", type(employee))\n",
        "print(\"Accessing the developer key:\", employee[\"type\"][\"developer\"])\n",
        "employee[\"permanent\"] = False\n",
        "print(\"Updated 'permanent' to False:\", employee)\n",
        "employee[\"gender\"] = \"male\"\n",
        "print(\"Added 'gender':\", employee)\n",
        "employee.pop(\"age\", None)\n",
        "print(\"Removed 'age' key:\", employee)\n",
        "print(\"Keys of the dictionary:\", employee.keys())\n",
        "print(\"Values of the dictionary:\", employee.values())\n",
        "print(\"Items of the dictionary:\", employee.items())\n",
        "print(\"Iterating through dictionary:\")\n",
        "for key, value in employee.items():\n",
        "    print(f\"{key}: {value}\")"
      ],
      "metadata": {
        "colab": {
          "base_uri": "https://localhost:8080/"
        },
        "id": "o2TbCdRpCcdG",
        "outputId": "626c13de-5be4-40ed-9a07-d2b73d4833f6"
      },
      "execution_count": 14,
      "outputs": [
        {
          "output_type": "stream",
          "name": "stdout",
          "text": [
            "Length of employee:  7\n",
            "Type of employee:  <class 'dict'>\n",
            "Accessing the developer key: ['iOS', 'android']\n",
            "Updated 'permanent' to False: {'name': 'A', 'age': 40, 'type': {'developer': ['iOS', 'android']}, 'permanent': False, 'salary': 30000, 100: (1, 2, 3), 4.5: {1, 'Tone', 5, 6, 7}}\n",
            "Added 'gender': {'name': 'A', 'age': 40, 'type': {'developer': ['iOS', 'android']}, 'permanent': False, 'salary': 30000, 100: (1, 2, 3), 4.5: {1, 'Tone', 5, 6, 7}, 'gender': 'male'}\n",
            "Removed 'age' key: {'name': 'A', 'type': {'developer': ['iOS', 'android']}, 'permanent': False, 'salary': 30000, 100: (1, 2, 3), 4.5: {1, 'Tone', 5, 6, 7}, 'gender': 'male'}\n",
            "Keys of the dictionary: dict_keys(['name', 'type', 'permanent', 'salary', 100, 4.5, 'gender'])\n",
            "Values of the dictionary: dict_values(['A', {'developer': ['iOS', 'android']}, False, 30000, (1, 2, 3), {1, 'Tone', 5, 6, 7}, 'male'])\n",
            "Items of the dictionary: dict_items([('name', 'A'), ('type', {'developer': ['iOS', 'android']}), ('permanent', False), ('salary', 30000), (100, (1, 2, 3)), (4.5, {1, 'Tone', 5, 6, 7}), ('gender', 'male')])\n",
            "Iterating through dictionary:\n",
            "name: A\n",
            "type: {'developer': ['iOS', 'android']}\n",
            "permanent: False\n",
            "salary: 30000\n",
            "100: (1, 2, 3)\n",
            "4.5: {1, 'Tone', 5, 6, 7}\n",
            "gender: male\n"
          ]
        }
      ]
    },
    {
      "cell_type": "markdown",
      "source": [
        "String\n",
        "\n",
        "1."
      ],
      "metadata": {
        "id": "Js610rbLDXym"
      }
    },
    {
      "cell_type": "code",
      "source": [
        "a = \"hello\"\n",
        "b = \"b2b2b2\"\n",
        "c = \"3g3g\"\n",
        "d = a + b + c\n",
        "\n",
        "print(\"Concatenated string:\", d)\n",
        "length_d = len(d)\n",
        "print(\"Length of d:\", length_d)\n",
        "print(\"Last character of d:\", d[-3])\n",
        "a2_present = \"a2\" in d\n",
        "print('\"a2\" is present in d:', a2_present)\n",
        "print(\"Uppercase:\", d.upper())\n",
        "print(\"Lowercase:\", d.lower())\n",
        "print(\"Titlecase:\", d.title())\n",
        "print(\"Stripped:\", d.strip())\n",
        "print(\"Is digit:\", d.isdigit())\n",
        "print('Find \"3g\":', d.find(\"3g\"))\n",
        "print(\"Capitalize:\", d.capitalize())\n",
        "print(\"Alphanumeric:\", d.isalnum())\n",
        "print('Count \"b2\":', d.count(\"b2\"))\n",
        "print(\"Split:\", d.split())\n",
        "print(\"Swapcase:\", d.swapcase())\n",
        "print(\"Left strip:\", d.lstrip(\"h\"))\n",
        "print('Replace \"hello\" with \"python\":', d.replace(\"hello\", \"python\"))"
      ],
      "metadata": {
        "colab": {
          "base_uri": "https://localhost:8080/"
        },
        "id": "ugb4VUKpDa-H",
        "outputId": "291b4f90-ea9d-4f1e-8d40-194f81515534"
      },
      "execution_count": 15,
      "outputs": [
        {
          "output_type": "stream",
          "name": "stdout",
          "text": [
            "Concatenated string: hellob2b2b23g3g\n",
            "Length of d: 15\n",
            "Last character of d: g\n",
            "\"a2\" is present in d: False\n",
            "Uppercase: HELLOB2B2B23G3G\n",
            "Lowercase: hellob2b2b23g3g\n",
            "Titlecase: Hellob2B2B23G3G\n",
            "Stripped: hellob2b2b23g3g\n",
            "Is digit: False\n",
            "Find \"3g\": 11\n",
            "Capitalize: Hellob2b2b23g3g\n",
            "Alphanumeric: True\n",
            "Count \"b2\": 3\n",
            "Split: ['hellob2b2b23g3g']\n",
            "Swapcase: HELLOB2B2B23G3G\n",
            "Left strip: ellob2b2b23g3g\n",
            "Replace \"hello\" with \"python\": pythonb2b2b23g3g\n"
          ]
        }
      ]
    },
    {
      "cell_type": "markdown",
      "source": [
        "Class Object\n",
        "\n",
        "1."
      ],
      "metadata": {
        "id": "dyKWE3D3EpLm"
      }
    },
    {
      "cell_type": "code",
      "source": [
        "class Product:\n",
        "    def __init__(self, name, price):\n",
        "        self.name = name\n",
        "        self.price = price\n",
        "\n",
        "    def display_detail(self):\n",
        "        print(f\"Product Name: {self.name}, Price: {self.price}\")\n",
        "\n",
        "class ElectronicProduct(Product):\n",
        "    def __init__(self, name, price, warranty):\n",
        "        super().__init__(name, price)\n",
        "        self.warranty = warranty\n",
        "\n",
        "    def display_detail(self):\n",
        "        super().display_detail()\n",
        "        print(f\"Warranty: {self.warranty} years\")\n",
        "\n",
        "product = Product(\"Motherboard\", 15000)\n",
        "product.display_detail()\n",
        "\n",
        "electronic_product = ElectronicProduct(\"Laptop\", 1500, 2)\n",
        "electronic_product.display_detail()"
      ],
      "metadata": {
        "colab": {
          "base_uri": "https://localhost:8080/"
        },
        "id": "2R8WSR89Estt",
        "outputId": "43bbde55-28b2-4d02-9feb-379d47c7bd4f"
      },
      "execution_count": 19,
      "outputs": [
        {
          "output_type": "stream",
          "name": "stdout",
          "text": [
            "Product Name: Motherboard, Price: 15000\n",
            "Product Name: Laptop, Price: 1500\n",
            "Warranty: 2 years\n"
          ]
        }
      ]
    },
    {
      "cell_type": "markdown",
      "source": [
        "2."
      ],
      "metadata": {
        "id": "SJ-oGaJeEzF-"
      }
    },
    {
      "cell_type": "code",
      "source": [
        "class Shape:\n",
        "    def __init__(self, name):\n",
        "        self.name = name\n",
        "\n",
        "    def get_name(self):\n",
        "        return self.name\n",
        "\n",
        "    def display_info(self):\n",
        "        print(f\"Shape Name: {self.name}\")\n",
        "\n",
        "class Rectangle(Shape):\n",
        "    def __init__(self, name, length, width):\n",
        "        super().__init__(name)\n",
        "        self.__length = length\n",
        "        self.__width = width\n",
        "\n",
        "    def __display(self):\n",
        "        print(f\"Length: {self.__length}, Width: {self.__width}\")\n",
        "\n",
        "    def area(self):\n",
        "        return self.__length * self.__width\n",
        "\n",
        "    def perimeter(self):\n",
        "        return 2 * (self.__length + self.__width)\n",
        "\n",
        "    def show_details(self):\n",
        "        self.display_info()\n",
        "        self.__display()\n",
        "\n",
        "rectangle = Rectangle(\"Rectangle\", 10, 5)\n",
        "rectangle.show_details()\n",
        "print(f\"Area: {rectangle.area()}\")\n",
        "print(f\"Perimeter: {rectangle.perimeter()}\")"
      ],
      "metadata": {
        "colab": {
          "base_uri": "https://localhost:8080/"
        },
        "id": "YH5v644yE0Q1",
        "outputId": "842c98d8-ba44-4a17-b28d-31048b8292af"
      },
      "execution_count": 18,
      "outputs": [
        {
          "output_type": "stream",
          "name": "stdout",
          "text": [
            "Shape Name: Rectangle\n",
            "Length: 10, Width: 5\n",
            "Area: 50\n",
            "Perimeter: 30\n"
          ]
        }
      ]
    },
    {
      "cell_type": "markdown",
      "source": [
        "Encapsulation\n",
        "\n",
        "1."
      ],
      "metadata": {
        "id": "xS5OwSLsE7ge"
      }
    },
    {
      "cell_type": "code",
      "source": [
        "class Vehicle:\n",
        "    def __init__(self, color):\n",
        "        self.color = color\n",
        "\n",
        "    def vehicle_info(self):\n",
        "        print(f\"Vehicle Color: {self.color}\")\n",
        "\n",
        "class Taxi(Vehicle):\n",
        "    def __init__(self, color, model, capacity, variant):\n",
        "        super().__init__(color)\n",
        "        self.__model = model\n",
        "        self.__capacity = capacity\n",
        "        self.__variant = variant\n",
        "\n",
        "    def get_model(self):\n",
        "        return self.__model\n",
        "\n",
        "    def get_capacity(self):\n",
        "        return self.__capacity\n",
        "\n",
        "    def get_variant(self):\n",
        "        return self.__variant\n",
        "\n",
        "    def set_model(self, model):\n",
        "        self.__model = model\n",
        "\n",
        "    def set_capacity(self, capacity):\n",
        "        self.__capacity = capacity\n",
        "\n",
        "    def set_variant(self, variant):\n",
        "        self.__variant = variant\n",
        "\n",
        "    def vehicle_info(self):\n",
        "        super().vehicle_info()\n",
        "        print(f\"Model: {self.__model}, Capacity: {self.__capacity}, Variant: {self.__variant}\")\n",
        "\n",
        "t1 = Taxi(\"Red\", \"Toyota Prius\", 4, \"Hybrid\")\n",
        "t2 = Taxi(\"Blue\", \"Honda Civic\", 5, \"Petrol\")\n",
        "\n",
        "t1.vehicle_info()\n",
        "t2.vehicle_info()"
      ],
      "metadata": {
        "colab": {
          "base_uri": "https://localhost:8080/"
        },
        "id": "hnm9UcJlE-A-",
        "outputId": "4b469e05-f8a1-442d-bbf4-88ef13afe915"
      },
      "execution_count": 17,
      "outputs": [
        {
          "output_type": "stream",
          "name": "stdout",
          "text": [
            "Vehicle Color: Red\n",
            "Model: Toyota Prius, Capacity: 4, Variant: Hybrid\n",
            "Vehicle Color: Blue\n",
            "Model: Honda Civic, Capacity: 5, Variant: Petrol\n"
          ]
        }
      ]
    },
    {
      "cell_type": "markdown",
      "source": [
        "Inheritance"
      ],
      "metadata": {
        "id": "j5ohDe4ZFEpm"
      }
    },
    {
      "cell_type": "code",
      "source": [
        "class Person:\n",
        "    def __init__(self, first_name, last_name):\n",
        "        self.first_name = first_name\n",
        "        self.last_name = last_name\n",
        "\n",
        "    def display(self):\n",
        "        print(f\"Name: {self.first_name} {self.last_name}\")\n",
        "\n",
        "class Student(Person):\n",
        "    def __init__(self, first_name, last_name, graduation_year):\n",
        "        super().__init__(first_name, last_name)\n",
        "        self.graduation_year = graduation_year\n",
        "\n",
        "    def display(self):\n",
        "        super().display()\n",
        "        print(f\"Graduation Year: {self.graduation_year}\")\n",
        "\n",
        "class CurrentStudent(Student):\n",
        "    def __init__(self, first_name, last_name, graduation_year, current_semester):\n",
        "        super().__init__(first_name, last_name, graduation_year)\n",
        "        self.current_semester = current_semester\n",
        "\n",
        "    def display(self):\n",
        "        super().display()\n",
        "        print(f\"Current Semester: {self.current_semester}\")\n",
        "\n",
        "class Alumni(Student):\n",
        "    def __init__(self, first_name, last_name, graduation_year, passing_year):\n",
        "        super().__init__(first_name, last_name, graduation_year)\n",
        "        self.passing_year = passing_year\n",
        "\n",
        "    def display(self):\n",
        "        super().display()\n",
        "        print(f\"Passing Year: {self.passing_year}\")\n",
        "\n",
        "class Teacher(Person):\n",
        "    def __init__(self, first_name, last_name, joining_year):\n",
        "        super().__init__(first_name, last_name)\n",
        "        self.joining_year = joining_year\n",
        "\n",
        "    def display(self):\n",
        "        super().display()\n",
        "        print(f\"Joining Year: {self.joining_year}\")\n",
        "\n",
        "class Admin(Person):\n",
        "    def __init__(self, first_name, last_name, joining_year):\n",
        "        super().__init__(first_name, last_name)\n",
        "        self.joining_year = joining_year\n",
        "\n",
        "    def display(self):\n",
        "        super().display()\n",
        "        print(f\"Joining Year: {self.joining_year}\")\n",
        "\n",
        "class Employee(Person):\n",
        "    def __init__(self, first_name, last_name, employee_id):\n",
        "        super().__init__(first_name, last_name)\n",
        "        self.employee_id = employee_id\n",
        "\n",
        "    def display(self):\n",
        "        super().display()\n",
        "        print(f\"Employee ID: {self.employee_id}\")\n",
        "\n",
        "if __name__ == \"__main__\":\n",
        "    student = CurrentStudent(\"Fahmida\", \"Juthi\", 2024, \"5th\")\n",
        "    student.display()\n",
        "\n",
        "    alumni = Alumni(\"Ittehad\", \"Zumar\", 2020, 2023)\n",
        "    alumni.display()\n",
        "\n",
        "    teacher = Teacher(\"Nasima\", \"Islam\", 2022)\n",
        "    teacher.display()\n",
        "\n",
        "    admin = Admin(\"Meraj\", \"Mustafa\", 2020)\n",
        "    admin.display()\n",
        "\n",
        "    employee = Employee(\"Sadia\", \"Ferdous\", \"EMP-1\")\n",
        "    employee.display()"
      ],
      "metadata": {
        "colab": {
          "base_uri": "https://localhost:8080/"
        },
        "id": "8CsdvhkZFFoV",
        "outputId": "efe9670b-1928-4495-f7db-6618824a0860"
      },
      "execution_count": 16,
      "outputs": [
        {
          "output_type": "stream",
          "name": "stdout",
          "text": [
            "Name: Fahmida Juthi\n",
            "Graduation Year: 2024\n",
            "Current Semester: 5th\n",
            "Name: Ittehad Zumar\n",
            "Graduation Year: 2020\n",
            "Passing Year: 2023\n",
            "Name: Nasima Islam\n",
            "Joining Year: 2022\n",
            "Name: Meraj Mustafa\n",
            "Joining Year: 2020\n",
            "Name: Sadia Ferdous\n",
            "Employee ID: EMP-1\n"
          ]
        }
      ]
    },
    {
      "cell_type": "markdown",
      "source": [
        "Polymorphism\n",
        "1.What is runtime polymorpism? Give a code example\n",
        "Runtime polymorphism, also known as method overriding, occurs when a subclass provides a specific implementation of a method already defined in its superclass. The method that gets executed is determined at runtime, based on the object instance."
      ],
      "metadata": {
        "id": "sUtv7amfGcEO"
      }
    },
    {
      "cell_type": "code",
      "source": [
        "class Department:\n",
        "    def display_name(self):\n",
        "        return \"Department Name\"\n",
        "\n",
        "class Teacher(Department):\n",
        "    def display_name(self):\n",
        "        return \"Teacher Name\"\n",
        "\n",
        "obj = Teacher()\n",
        "print(obj.display_name())\n"
      ],
      "metadata": {
        "colab": {
          "base_uri": "https://localhost:8080/"
        },
        "id": "YdtnmvBYGe_l",
        "outputId": "e02aa666-5d02-4040-f90d-8d0522ab451c"
      },
      "execution_count": 20,
      "outputs": [
        {
          "output_type": "stream",
          "name": "stdout",
          "text": [
            "Teacher Name\n"
          ]
        }
      ]
    },
    {
      "cell_type": "markdown",
      "source": [
        "2."
      ],
      "metadata": {
        "id": "9yxOpyn5GotN"
      }
    },
    {
      "cell_type": "code",
      "source": [
        "class Department:\n",
        "    def __init__(self, name):\n",
        "        self.name = name\n",
        "\n",
        "    def display_name(self):\n",
        "        return f\"Department: {self.name}\"\n",
        "\n",
        "class Teacher(Department):\n",
        "    def schedule_class(self):\n",
        "        return \"Scheduling a class.\"\n",
        "\n",
        "    def grade_student(self):\n",
        "        return \"Grading a student.\"\n",
        "\n",
        "    def display_name(self):\n",
        "        return \"Teacher Name\"\n",
        "\n",
        "class Author:\n",
        "    def write_article(self):\n",
        "        return \"Writing an article.\"\n",
        "\n",
        "    def publish_blog(self):\n",
        "        return \"Publishing a blog.\"\n",
        "\n",
        "class TeacherAuthor(Teacher, Author):\n",
        "    def __init__(self, name):\n",
        "        super().__init__(name)\n",
        "\n",
        "ta = TeacherAuthor(\"Mathematics\")\n",
        "print(ta.display_name())\n",
        "print(ta.schedule_class())\n",
        "print(ta.grade_student())\n",
        "print(ta.write_article())\n",
        "print(ta.publish_blog())\n"
      ],
      "metadata": {
        "colab": {
          "base_uri": "https://localhost:8080/"
        },
        "id": "I0VzHnA7Gp2F",
        "outputId": "ff341737-a04b-4965-b913-14f13397a309"
      },
      "execution_count": 29,
      "outputs": [
        {
          "output_type": "stream",
          "name": "stdout",
          "text": [
            "Teacher Name\n",
            "Scheduling a class.\n",
            "Grading a student.\n",
            "Writing an article.\n",
            "Publishing a blog.\n"
          ]
        }
      ]
    },
    {
      "cell_type": "markdown",
      "source": [
        "3.what will happen if both class have same method profie() and you call it through TeacherAuthor object?\n",
        "\n",
        "\n",
        "If both Teacher and Author classes have the same method profile() and the TeacherAuthor class inherits from both, the behavior depends on the Method overriding in Python."
      ],
      "metadata": {
        "id": "PRVPduSGG151"
      }
    },
    {
      "cell_type": "code",
      "source": [
        "class Teacher:\n",
        "    def profile(self):\n",
        "        return \"Profile from Teacher\"\n",
        "\n",
        "class Author:\n",
        "    def profile(self):\n",
        "        return \"Profile from Author\"\n",
        "\n",
        "class TeacherAuthor(Teacher, Author):\n",
        "    pass\n",
        "\n",
        "ta = TeacherAuthor()\n",
        "print(ta.profile())"
      ],
      "metadata": {
        "colab": {
          "base_uri": "https://localhost:8080/"
        },
        "id": "dzv5n8GJG7O1",
        "outputId": "3557f84a-c8d4-4631-b14a-a10e5ccd17b7"
      },
      "execution_count": 28,
      "outputs": [
        {
          "output_type": "stream",
          "name": "stdout",
          "text": [
            "Profile from Teacher\n"
          ]
        }
      ]
    },
    {
      "cell_type": "markdown",
      "source": [
        "Exception Handling\n",
        "\n",
        "1."
      ],
      "metadata": {
        "id": "JsLuQLW3HGz1"
      }
    },
    {
      "cell_type": "code",
      "source": [
        "class InvalidVoterException(Exception):\n",
        "    def __init__(self, message=\"Age is less than 18. Invalid voter.\"):\n",
        "        self.message = message\n",
        "        super().__init__(self.message)\n",
        "\n",
        "def check_voter_age(age):\n",
        "    if age < 18:\n",
        "        raise InvalidVoterException()\n",
        "    else:\n",
        "        print(\"You are eligible to vote.\")\n",
        "\n",
        "try:\n",
        "    age = int(input(\"Enter your age: \"))\n",
        "    check_voter_age(age)\n",
        "except InvalidVoterException as e:\n",
        "    print(e)\n",
        "except ValueError:\n",
        "    print(\"Invalid input! Please enter a valid integer for age.\")"
      ],
      "metadata": {
        "colab": {
          "base_uri": "https://localhost:8080/"
        },
        "id": "l6E75YwgHMk9",
        "outputId": "fe9ff04f-46cc-47e3-f296-5f5551f6f97c"
      },
      "execution_count": 27,
      "outputs": [
        {
          "output_type": "stream",
          "name": "stdout",
          "text": [
            "Enter your age: 22\n",
            "You are eligible to vote.\n"
          ]
        }
      ]
    },
    {
      "cell_type": "markdown",
      "source": [
        "2."
      ],
      "metadata": {
        "id": "-2B9jml1HSdu"
      }
    },
    {
      "cell_type": "code",
      "source": [
        "class SalaryNotInRange(Exception):\n",
        "    def __init__(self, message=\"Salary must be between 10,000 and 50,000.\"):\n",
        "        self.message = message\n",
        "        super().__init__(self.message)\n",
        "\n",
        "class Employee:\n",
        "    def __init__(self, name, salary):\n",
        "        self.name = name\n",
        "        if salary < 10000 or salary > 50000:\n",
        "            raise SalaryNotInRange()\n",
        "        self.salary = salary\n",
        "\n",
        "    def displaySalary(self):\n",
        "        print(f\"Employee Name: {self.name}, Salary: {self.salary}\")\n",
        "\n",
        "try:\n",
        "    name = input(\"Enter employee name: \")\n",
        "    salary = int(input(\"Enter employee salary: \"))\n",
        "\n",
        "    employee = Employee(name, salary)\n",
        "    employee.displaySalary()\n",
        "\n",
        "except SalaryNotInRange as e:\n",
        "    print(e)\n",
        "except ValueError:\n",
        "    print(\"Invalid input! Please enter a valid integer for salary.\")"
      ],
      "metadata": {
        "colab": {
          "base_uri": "https://localhost:8080/"
        },
        "id": "-DSwpUAAHT-2",
        "outputId": "3d14f984-8fff-42be-a32a-a6cedde1b344"
      },
      "execution_count": 26,
      "outputs": [
        {
          "output_type": "stream",
          "name": "stdout",
          "text": [
            "Enter employee name: Shanta\n",
            "Enter employee salary: 20000\n",
            "Employee Name: Shanta, Salary: 20000\n"
          ]
        }
      ]
    },
    {
      "cell_type": "markdown",
      "source": [
        "3."
      ],
      "metadata": {
        "id": "utgEamG_HZrl"
      }
    },
    {
      "cell_type": "code",
      "source": [
        "arr = [10, 5, 15, 220]\n",
        "\n",
        "divisor = int(input(\"Enter an integer as the divisor: \"))\n",
        "try:\n",
        "    for i in range(len(arr)):\n",
        "        result = arr[i] / divisor\n",
        "        print(f\"Element {arr[i]} divided by {divisor} is {result}\")\n",
        "\n",
        "except ZeroDivisionError:\n",
        "    print(\"Error: Division by zero is not allowed.\")\n",
        "except ValueError:\n",
        "    print(\"Error: Please enter an integer for the divisor.\")\n",
        "except NameError:\n",
        "    print(\"Error: Variable name is not defined.\")\n",
        "except TypeError:\n",
        "    print(\"Error: Data type mismatch in operation.\")\n",
        "except IndexError:\n",
        "    print(\"Error: Index out of range.\")\n",
        "except AttributeError:\n",
        "    print(\"Error: Attribute not found.\")\n",
        "except FileNotFoundError:\n",
        "    print(\"Error: File not found.\")\n",
        "else:\n",
        "    print(\"Division successful.\")\n",
        "finally:\n",
        "    print(\"End of the program.\")"
      ],
      "metadata": {
        "colab": {
          "base_uri": "https://localhost:8080/"
        },
        "id": "esRioh3xHaq-",
        "outputId": "d9d1bbe3-10d2-4583-a25e-aa0c2b22380d"
      },
      "execution_count": 25,
      "outputs": [
        {
          "output_type": "stream",
          "name": "stdout",
          "text": [
            "Enter an integer as the divisor: 49\n",
            "Element 10 divided by 49 is 0.20408163265306123\n",
            "Element 5 divided by 49 is 0.10204081632653061\n",
            "Element 15 divided by 49 is 0.30612244897959184\n",
            "Element 220 divided by 49 is 4.489795918367347\n",
            "Division successful.\n",
            "End of the program.\n"
          ]
        }
      ]
    },
    {
      "cell_type": "markdown",
      "source": [
        "4"
      ],
      "metadata": {
        "id": "AhVw_5TsHj_e"
      }
    },
    {
      "cell_type": "code",
      "source": [
        "class InsufficientFundsError(Exception):\n",
        "    pass\n",
        "\n",
        "class BankAccount:\n",
        "    def __init__(self, balance):\n",
        "        self.balance = balance\n",
        "\n",
        "    def withdraw(self, amount):\n",
        "        if amount > self.balance:\n",
        "            raise InsufficientFundsError(\"Insufficient funds.\")\n",
        "        self.balance -= amount\n",
        "        print(\"Current balance:\", self.balance)\n",
        "\n",
        "account = BankAccount(100)\n",
        "try:\n",
        "    account.withdraw(150)\n",
        "except InsufficientFundsError as e:\n",
        "    print(e)\n"
      ],
      "metadata": {
        "colab": {
          "base_uri": "https://localhost:8080/"
        },
        "id": "qDW1SlrEHk6W",
        "outputId": "f6663d9b-f3c0-47e1-b5fe-4b56bdc84530"
      },
      "execution_count": 24,
      "outputs": [
        {
          "output_type": "stream",
          "name": "stdout",
          "text": [
            "Insufficient funds.\n"
          ]
        }
      ]
    },
    {
      "cell_type": "markdown",
      "source": [
        "Numpy"
      ],
      "metadata": {
        "id": "7eWZzkDZHohm"
      }
    },
    {
      "cell_type": "code",
      "source": [
        "import numpy as np\n",
        "score = np.array([85, 90, 78, 92, 88])\n",
        "\n",
        "score = score.astype(float)\n",
        "print(\"Scores as float:\", [f\"{x:.2f}\" for x in score])\n",
        "a_score = score.copy()\n",
        "a_score += 5\n",
        "print(\"Original score:\", score)\n",
        "print(\"Modified a_score:\", a_score)\n",
        "print(\"Shape:\", score.shape)\n",
        "print(\"Number of dimensions:\", score.ndim)\n",
        "print(\"Size:\", score.size)\n",
        "print(\"Item size:\", score.itemsize)\n",
        "print(\"Data type:\", score.dtype)\n",
        "print(\"Sorted scores:\", np.sort(score))\n",
        "indices = np.where(score > 80)\n",
        "print(\"Indices of scores > 80:\", indices[0])\n",
        "print(\"Minimum score:\", np.min(score))\n",
        "print(\"Maximum score:\", np.max(score))\n",
        "print(\"Standard deviation:\", np.std(score))\n",
        "print(\"Variance:\", np.var(score))\n",
        "print(\"Sum of scores:\", np.sum(score))\n",
        "print(\"Mean of scores:\", np.mean(score))\n",
        "print(\"score[::2]:\", score[::2])\n",
        "print(\"score[-3:-1]:\", score[-3:-1])\n",
        "print(\"score[1:4]:\", score[1:4])"
      ],
      "metadata": {
        "colab": {
          "base_uri": "https://localhost:8080/"
        },
        "id": "RL7QPIZBHqB_",
        "outputId": "6f4e1348-f28f-4434-a4bc-660301fa4968"
      },
      "execution_count": 21,
      "outputs": [
        {
          "output_type": "stream",
          "name": "stdout",
          "text": [
            "Scores as float: ['85.00', '90.00', '78.00', '92.00', '88.00']\n",
            "Original score: [85. 90. 78. 92. 88.]\n",
            "Modified a_score: [90. 95. 83. 97. 93.]\n",
            "Shape: (5,)\n",
            "Number of dimensions: 1\n",
            "Size: 5\n",
            "Item size: 8\n",
            "Data type: float64\n",
            "Sorted scores: [78. 85. 88. 90. 92.]\n",
            "Indices of scores > 80: [0 1 3 4]\n",
            "Minimum score: 78.0\n",
            "Maximum score: 92.0\n",
            "Standard deviation: 4.882622246293481\n",
            "Variance: 23.84\n",
            "Sum of scores: 433.0\n",
            "Mean of scores: 86.6\n",
            "score[::2]: [85. 78. 88.]\n",
            "score[-3:-1]: [78. 92.]\n",
            "score[1:4]: [90. 78. 92.]\n"
          ]
        }
      ]
    },
    {
      "cell_type": "markdown",
      "source": [
        "Abstraction\n",
        "\n",
        "1."
      ],
      "metadata": {
        "id": "4DahCJXyILzv"
      }
    },
    {
      "cell_type": "code",
      "source": [
        "from abc import ABC, abstractmethod\n",
        "class Vehicle(ABC):\n",
        "    @abstractmethod\n",
        "    def start(self):\n",
        "        pass\n",
        "\n",
        "    @abstractmethod\n",
        "    def stop(self):\n",
        "        pass\n",
        "class Car(Vehicle):\n",
        "    def __init__(self, name, model):\n",
        "        self.name = name\n",
        "        self.model = model\n",
        "    def start(self):\n",
        "        print(f\"The Car called {self.name} starts the engine.\")\n",
        "    def stop(self):\n",
        "        print(f\"The brand of {self.model} is {self.name},stops the engine.\")\n",
        "\n",
        "class MotorCycle(Vehicle):\n",
        "    def __init__(self, name, brand):\n",
        "        self.name = name\n",
        "        self.brand = brand\n",
        "    def start(self):\n",
        "        print(f\"The Bike called {self.name} starts the engine.\")\n",
        "    def stop(self):\n",
        "        print(f\"The brand of {self.name} is {self.brand},stops the engine.\")\n",
        "\n",
        "c = Car(\"Supra\", \"S-MK4\")\n",
        "c.start()\n",
        "c.stop()\n",
        "\n",
        "m = MotorCycle(\"Ninja H2\", \"Kawasaki\")\n",
        "m.start()\n",
        "m.stop()"
      ],
      "metadata": {
        "colab": {
          "base_uri": "https://localhost:8080/"
        },
        "id": "gQ6PwTdqIPl1",
        "outputId": "479b1b23-392a-4d78-9af4-cd47d24beec9"
      },
      "execution_count": 23,
      "outputs": [
        {
          "output_type": "stream",
          "name": "stdout",
          "text": [
            "The Car called Supra starts the engine.\n",
            "The brand of S-MK4 is Supra,stops the engine.\n",
            "The Bike called Ninja H2 starts the engine.\n",
            "The brand of Ninja H2 is Kawasaki,stops the engine.\n"
          ]
        }
      ]
    },
    {
      "cell_type": "markdown",
      "source": [
        "2."
      ],
      "metadata": {
        "id": "SRAL8IqGIVh3"
      }
    },
    {
      "cell_type": "code",
      "source": [
        "from abc import ABC, abstractmethod\n",
        "class Vehicle(ABC):\n",
        "    def __init__(self,brand):\n",
        "        self.brand = brand\n",
        "    @abstractmethod\n",
        "    def startEngine(self):\n",
        "        pass\n",
        "    def description(self):\n",
        "        print(self.brand)\n",
        "\n",
        "class Car(Vehicle):\n",
        "    def __init__(self, model, brand):\n",
        "        super().__init__(brand)\n",
        "        self.model = model\n",
        "    def startEngine(self):\n",
        "        print(f\"{self.model} has a powerful engine.\")\n",
        "    def description(self):\n",
        "        print(f\"{self.model} is a powerful car and it is owned by the brand of {self.brand}.\")\n",
        "\n",
        "c = Car(\"S-MK4\", \"Supra\")\n",
        "c.startEngine()\n",
        "c.description()"
      ],
      "metadata": {
        "colab": {
          "base_uri": "https://localhost:8080/"
        },
        "id": "8YKKHnNkIWlt",
        "outputId": "71c0e800-13a2-4c8e-b940-884c7f9480ca"
      },
      "execution_count": 22,
      "outputs": [
        {
          "output_type": "stream",
          "name": "stdout",
          "text": [
            "S-MK4 has a powerful engine.\n",
            "S-MK4 is a powerful car and it is owned by the brand of Supra.\n"
          ]
        }
      ]
    }
  ]
}